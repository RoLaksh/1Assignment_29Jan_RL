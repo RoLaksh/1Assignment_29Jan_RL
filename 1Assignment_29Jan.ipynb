{
 "cells": [
  {
   "cell_type": "code",
   "execution_count": null,
   "id": "605cd83c-e6bc-40bb-a057-b57e8cb4c632",
   "metadata": {},
   "outputs": [],
   "source": [
    "##29th Jan Assignment"
   ]
  },
  {
   "cell_type": "markdown",
   "id": "ed837d39-259a-48b3-8eec-6797cdcdf180",
   "metadata": {},
   "source": [
    "1) who developed python programming language?\n",
    "= Guido van rossum"
   ]
  },
  {
   "cell_type": "markdown",
   "id": "feeb4894-603f-4cc2-984d-263281d6b868",
   "metadata": {},
   "source": [
    "2) Which type of programming does python support?\n",
    "=  Python is an interpreted programming language, which supports object-oriented, structured, and functional programming."
   ]
  },
  {
   "cell_type": "markdown",
   "id": "ba7ec18e-5a2a-45de-a364-aca0658448a0",
   "metadata": {},
   "source": [
    "3) is python case sensitive when dealing with identifiers?\n",
    "= Case is always significant while dealing with identifiers in python."
   ]
  },
  {
   "cell_type": "markdown",
   "id": "7808a7ff-cd5b-47ac-a99e-d696b5b81659",
   "metadata": {},
   "source": [
    "4) What is the correct extension of the Python file?\n",
    "= '.py' is the correct extension of the Python file."
   ]
  },
  {
   "cell_type": "markdown",
   "id": "4ba20581-3fb0-465e-9aa1-38f4418809ae",
   "metadata": {},
   "source": [
    "5) Is Python code compiled or interpreted?\n",
    "= Many languages have been implemented using both compilers and interpreters, including C, Pascal, and Python."
   ]
  },
  {
   "cell_type": "markdown",
   "id": "69d2346b-4c35-4955-a597-c9f284e9ebad",
   "metadata": {},
   "source": [
    "6) Name a few block of code used to define in Python language?\n",
    "= A module, a function body, and a class definition. Each command typed interactively is a block. A script file (a file given as standard input to the interpreter or specified as a command line argument to the interpreter) is a code block. A script command (a command specified on the interpreter command line with the -c option) is a code block. A module run as a top level script (as module __main__) from the command line using a -m argument is also a code block. The string argument passed to the built-in functions eval() and exec() is a code block."
   ]
  },
  {
   "cell_type": "markdown",
   "id": "cc3c0b6b-5b18-471c-8a1b-9cd0ed8e7c03",
   "metadata": {},
   "source": [
    "7) State a character used to give single-line comments in python?\n",
    "= Hash character (#) at the beginning of the line."
   ]
  },
  {
   "cell_type": "markdown",
   "id": "e2d0c41a-bc86-465e-a0f2-9ac99dd46c18",
   "metadata": {},
   "source": [
    "8) Mention functions which can help us to find the version of python that we are currently working on?\n",
    "= sys.version"
   ]
  },
  {
   "cell_type": "markdown",
   "id": "49f4f4cd-e70c-450d-9a2d-0dc0ea1c0ede",
   "metadata": {},
   "source": [
    "9) Python supports the creation of anonymous functions at runtime, using a construct called______\n",
    "= lambda."
   ]
  },
  {
   "cell_type": "markdown",
   "id": "b957597d-c293-482a-8fcc-12986d1f6ad4",
   "metadata": {},
   "source": [
    "10) What does pip stand for python?\n",
    "= pip is a package manager for python. Which is also called Preferred Installer Program."
   ]
  },
  {
   "cell_type": "markdown",
   "id": "9862e639-0e2a-4a87-a63f-3cfe9e759ff6",
   "metadata": {},
   "source": [
    "11) Mention a few built-in function in python?\n",
    "=a] int()\n",
    "b] float()\n",
    "c] str()\n",
    "d] type()\n",
    "e] print()\n"
   ]
  },
  {
   "cell_type": "markdown",
   "id": "7f292bdc-9f56-466b-bf39-d23a190c7d9f",
   "metadata": {},
   "source": [
    "12) What is maximum possible length of an identifier in python?\n",
    "= Identifiers can be of any length."
   ]
  },
  {
   "cell_type": "markdown",
   "id": "75982b80-9e1d-44fa-9963-31fcc5086dff",
   "metadata": {},
   "source": [
    "13) What are the benefits of using python?\n",
    "= Earning Potential. Python is the second-highest paid computer language, according to Indeed. ...\n",
    "Ease of Comprehension. One of the top benefits of Python is that it is easy to learn and fun to use. ...\n",
    "Flexibility. Not only is Python easy to learn, but also, it's flexible. ...\n",
    "Used in Many Industries."
   ]
  },
  {
   "cell_type": "markdown",
   "id": "db471b91-7424-4583-a3e5-933dde0d5abe",
   "metadata": {},
   "source": [
    "14) How us memory managed in python?\n",
    "= Memory management in Python involves a private heap containing all Python objects and data structures. The management of this private heap is ensured internally by the Python memory manager."
   ]
  },
  {
   "cell_type": "markdown",
   "id": "b3935578-804b-4f48-9ebf-42206a02e6ee",
   "metadata": {},
   "source": [
    "15) How to install python on windows and set path variables?\n",
    "= Visit the link https://www.python.org to download the latest release of Python.\n",
    "1. Select the Python's version to download.\n",
    "Click on the download button to download the exe file of Python.\n",
    "2. Click on the Install Now\n",
    "Double-click the executable file, which is downloaded.\n",
    "\n",
    "Then Right click on My Computer ->Properties ->Advanced System setting ->Environment Variable ->New\n",
    "In Variable name write path and in Variable value copy path up to C://Python(i.e., path where Python is installed). Click Ok ->Ok.\n",
    "Path will be set for executing Python programs.\n",
    "1.Right click on My Computer and click on properties.\n",
    "2. Click on Advanced System settings\n",
    "3. Click on Environment Variable tab.\n",
    "4. Click on new tab of user variables.\n",
    "5. Write path in variable name\n",
    "6. Copy the path of Python folder\n",
    "7. Paste path of Python in variable value.\n",
    "8. Click on Ok button:"
   ]
  },
  {
   "cell_type": "markdown",
   "id": "bf220c24-38d6-4ac3-b879-17facd3c48bd",
   "metadata": {},
   "source": [
    "16) Is indentation required in python?\n",
    "= Indentation is a very important concept of Python because without properly indenting the Python code, you will end up seeing IndentationError and the code will not get compiled."
   ]
  },
 
